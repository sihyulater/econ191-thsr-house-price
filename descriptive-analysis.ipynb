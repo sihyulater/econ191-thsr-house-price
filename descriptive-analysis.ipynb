{
 "cells": [
  {
   "cell_type": "code",
   "execution_count": 1,
   "id": "fc540925",
   "metadata": {},
   "outputs": [],
   "source": [
    "import pandas as pd\n",
    "import numpy as np"
   ]
  },
  {
   "cell_type": "code",
   "execution_count": 4,
   "id": "2358d7a3",
   "metadata": {},
   "outputs": [
    {
     "data": {
      "text/html": [
       "<div>\n",
       "<style scoped>\n",
       "    .dataframe tbody tr th:only-of-type {\n",
       "        vertical-align: middle;\n",
       "    }\n",
       "\n",
       "    .dataframe tbody tr th {\n",
       "        vertical-align: top;\n",
       "    }\n",
       "\n",
       "    .dataframe thead th {\n",
       "        text-align: right;\n",
       "    }\n",
       "</style>\n",
       "<table border=\"1\" class=\"dataframe\">\n",
       "  <thead>\n",
       "    <tr style=\"text-align: right;\">\n",
       "      <th></th>\n",
       "      <th>town</th>\n",
       "      <th>address</th>\n",
       "      <th>land_area</th>\n",
       "      <th>urb_zoning</th>\n",
       "      <th>nurb_zoning</th>\n",
       "      <th>nurb_land</th>\n",
       "      <th>date</th>\n",
       "      <th>object_num</th>\n",
       "      <th>story</th>\n",
       "      <th>material</th>\n",
       "      <th>...</th>\n",
       "      <th>balcony_area</th>\n",
       "      <th>d_elevator</th>\n",
       "      <th>trans_num</th>\n",
       "      <th>year</th>\n",
       "      <th>month</th>\n",
       "      <th>lat</th>\n",
       "      <th>lng</th>\n",
       "      <th>HubName</th>\n",
       "      <th>HubDist</th>\n",
       "      <th>dist2win</th>\n",
       "    </tr>\n",
       "  </thead>\n",
       "  <tbody>\n",
       "    <tr>\n",
       "      <th>0</th>\n",
       "      <td>宜蘭市</td>\n",
       "      <td>宜蘭縣宜蘭市農權路三段２７巷７號</td>\n",
       "      <td>131.28</td>\n",
       "      <td>都市：其他:住宅區</td>\n",
       "      <td>NaN</td>\n",
       "      <td>NaN</td>\n",
       "      <td>1111104</td>\n",
       "      <td>土地1建物1車位0</td>\n",
       "      <td>三層</td>\n",
       "      <td>鋼筋混凝土造</td>\n",
       "      <td>...</td>\n",
       "      <td>24.04</td>\n",
       "      <td>有</td>\n",
       "      <td>NaN</td>\n",
       "      <td>2022</td>\n",
       "      <td>11</td>\n",
       "      <td>24.748647</td>\n",
       "      <td>121.742330</td>\n",
       "      <td>宜蘭</td>\n",
       "      <td>1740.693751</td>\n",
       "      <td>3318.558635</td>\n",
       "    </tr>\n",
       "    <tr>\n",
       "      <th>1</th>\n",
       "      <td>宜蘭市</td>\n",
       "      <td>宜蘭縣宜蘭市同興街１４６號</td>\n",
       "      <td>36.53</td>\n",
       "      <td>都市：其他:商業區</td>\n",
       "      <td>NaN</td>\n",
       "      <td>NaN</td>\n",
       "      <td>1111101</td>\n",
       "      <td>土地1建物1車位0</td>\n",
       "      <td>二層</td>\n",
       "      <td>鋼筋混凝土加強磚造</td>\n",
       "      <td>...</td>\n",
       "      <td>0.00</td>\n",
       "      <td>無</td>\n",
       "      <td>NaN</td>\n",
       "      <td>2022</td>\n",
       "      <td>11</td>\n",
       "      <td>24.763950</td>\n",
       "      <td>121.754159</td>\n",
       "      <td>宜蘭</td>\n",
       "      <td>1056.623542</td>\n",
       "      <td>4123.849856</td>\n",
       "    </tr>\n",
       "    <tr>\n",
       "      <th>2</th>\n",
       "      <td>員山鄉</td>\n",
       "      <td>宜蘭縣員山鄉大安路９２之２８號</td>\n",
       "      <td>115.66</td>\n",
       "      <td>NaN</td>\n",
       "      <td>特定農業區</td>\n",
       "      <td>甲種建築用地</td>\n",
       "      <td>1111105</td>\n",
       "      <td>土地1建物1車位0</td>\n",
       "      <td>三層</td>\n",
       "      <td>鋼筋混凝土造</td>\n",
       "      <td>...</td>\n",
       "      <td>10.13</td>\n",
       "      <td>無</td>\n",
       "      <td>NaN</td>\n",
       "      <td>2022</td>\n",
       "      <td>11</td>\n",
       "      <td>24.736621</td>\n",
       "      <td>121.698002</td>\n",
       "      <td>宜蘭</td>\n",
       "      <td>6407.304823</td>\n",
       "      <td>6998.766157</td>\n",
       "    </tr>\n",
       "    <tr>\n",
       "      <th>3</th>\n",
       "      <td>三星鄉</td>\n",
       "      <td>宜蘭縣三星鄉健富路二段３４６巷８號</td>\n",
       "      <td>89.00</td>\n",
       "      <td>NaN</td>\n",
       "      <td>特定農業區</td>\n",
       "      <td>甲種建築用地</td>\n",
       "      <td>1111102</td>\n",
       "      <td>土地2建物1車位0</td>\n",
       "      <td>三層</td>\n",
       "      <td>鋼筋混凝土造</td>\n",
       "      <td>...</td>\n",
       "      <td>14.56</td>\n",
       "      <td>無</td>\n",
       "      <td>NaN</td>\n",
       "      <td>2022</td>\n",
       "      <td>11</td>\n",
       "      <td>24.673226</td>\n",
       "      <td>121.688242</td>\n",
       "      <td>羅東</td>\n",
       "      <td>8758.639377</td>\n",
       "      <td>10018.610415</td>\n",
       "    </tr>\n",
       "    <tr>\n",
       "      <th>4</th>\n",
       "      <td>員山鄉</td>\n",
       "      <td>宜蘭縣員山鄉員山路一段３６０號</td>\n",
       "      <td>101.15</td>\n",
       "      <td>都市：其他:住宅區</td>\n",
       "      <td>NaN</td>\n",
       "      <td>NaN</td>\n",
       "      <td>1111115</td>\n",
       "      <td>土地2建物1車位0</td>\n",
       "      <td>三層</td>\n",
       "      <td>鋼筋混凝土造</td>\n",
       "      <td>...</td>\n",
       "      <td>13.52</td>\n",
       "      <td>有</td>\n",
       "      <td>NaN</td>\n",
       "      <td>2022</td>\n",
       "      <td>11</td>\n",
       "      <td>24.742365</td>\n",
       "      <td>121.722595</td>\n",
       "      <td>宜蘭</td>\n",
       "      <td>3851.269011</td>\n",
       "      <td>4710.031587</td>\n",
       "    </tr>\n",
       "  </tbody>\n",
       "</table>\n",
       "<p>5 rows × 33 columns</p>\n",
       "</div>"
      ],
      "text/plain": [
       "  town            address  land_area urb_zoning nurb_zoning nurb_land  \\\n",
       "0  宜蘭市   宜蘭縣宜蘭市農權路三段２７巷７號     131.28  都市：其他:住宅區         NaN       NaN   \n",
       "1  宜蘭市      宜蘭縣宜蘭市同興街１４６號      36.53  都市：其他:商業區         NaN       NaN   \n",
       "2  員山鄉    宜蘭縣員山鄉大安路９２之２８號     115.66        NaN       特定農業區    甲種建築用地   \n",
       "3  三星鄉  宜蘭縣三星鄉健富路二段３４６巷８號      89.00        NaN       特定農業區    甲種建築用地   \n",
       "4  員山鄉    宜蘭縣員山鄉員山路一段３６０號     101.15  都市：其他:住宅區         NaN       NaN   \n",
       "\n",
       "      date object_num story   material  ...  balcony_area  d_elevator  \\\n",
       "0  1111104  土地1建物1車位0    三層     鋼筋混凝土造  ...         24.04           有   \n",
       "1  1111101  土地1建物1車位0    二層  鋼筋混凝土加強磚造  ...          0.00           無   \n",
       "2  1111105  土地1建物1車位0    三層     鋼筋混凝土造  ...         10.13           無   \n",
       "3  1111102  土地2建物1車位0    三層     鋼筋混凝土造  ...         14.56           無   \n",
       "4  1111115  土地2建物1車位0    三層     鋼筋混凝土造  ...         13.52           有   \n",
       "\n",
       "   trans_num  year  month        lat         lng  HubName      HubDist  \\\n",
       "0        NaN  2022     11  24.748647  121.742330       宜蘭  1740.693751   \n",
       "1        NaN  2022     11  24.763950  121.754159       宜蘭  1056.623542   \n",
       "2        NaN  2022     11  24.736621  121.698002       宜蘭  6407.304823   \n",
       "3        NaN  2022     11  24.673226  121.688242       羅東  8758.639377   \n",
       "4        NaN  2022     11  24.742365  121.722595       宜蘭  3851.269011   \n",
       "\n",
       "       dist2win  \n",
       "0   3318.558635  \n",
       "1   4123.849856  \n",
       "2   6998.766157  \n",
       "3  10018.610415  \n",
       "4   4710.031587  \n",
       "\n",
       "[5 rows x 33 columns]"
      ]
     },
     "execution_count": 4,
     "metadata": {},
     "output_type": "execute_result"
    }
   ],
   "source": [
    "df = pd.read_csv('11Input/02DataProcessed/sample_distance_to_train.csv')\n",
    "df2 = pd.read_csv('11Input/02DataProcessed/sample_distance_to_win.csv')\n",
    "df['dist2win'] = df2['HubDist']\n",
    "df.head()"
   ]
  },
  {
   "cell_type": "code",
   "execution_count": 5,
   "id": "87b5d26d",
   "metadata": {},
   "outputs": [
    {
     "data": {
      "text/plain": [
       "(8993, 33)"
      ]
     },
     "execution_count": 5,
     "metadata": {},
     "output_type": "execute_result"
    }
   ],
   "source": [
    "df.shape"
   ]
  },
  {
   "cell_type": "code",
   "execution_count": 6,
   "id": "3daf3b88",
   "metadata": {},
   "outputs": [],
   "source": [
    "# encoding story\n",
    "story_name = ('一層', '二層', '三層', '四層', '五層')\n",
    "def cat_story(row):\n",
    "    for i in range(5):\n",
    "        if row['story'] == story_name[i]:\n",
    "            return int(i+1)\n",
    "    \n",
    "df['n_story'] = df.apply(lambda row: cat_story(row), axis = 1)"
   ]
  },
  {
   "cell_type": "code",
   "execution_count": 7,
   "id": "75ab3544",
   "metadata": {},
   "outputs": [],
   "source": [
    "# encoding material\n",
    "brick = ('加強磚造', '磚造', '加強磚造、木石磚造（磚石造）', '木石磚造',  '木石磚造（磚石造）', '磚石造', '石造', '木造', '土造', '土竹造（土磚混合造）', '土磚石混合造', '鐵筋加強磚造及木造')\n",
    "rc = ('鋼筋混凝土造（ＲＣ）', '鋼筋混凝土（ＲＣ）', 'ＲＣ造', '鋼筋混凝土造', '鋼筋混凝土', '鋼筋混凝土（ＲＣ）、木構造', '鋼骨鋼筋混凝土造', '鋼筋混凝土、鋼骨造', '鋼骨造', '鋼造')\n",
    "enf_brick = ('鋼筋混凝土造、加強磚造', '鋼筋混凝土造及鋼筋混凝土加強磚造', '鋼筋混凝土造鋼筋混凝土加強磚造', '鋼筋混凝土加強磚造', '鋼筋混凝土加強磚造、鋼架造', '鐵筋加強磚造、ＲＣ造', 'ＲＣ加強磚造', '鋼筋混凝土加強磚造及鋼筋混凝土造', '鋼筋混凝土加強磚造﹒鋼筋混凝土造', '鐵筋加強磚造')\n",
    "iron = ('鋼鐵造、鋼架造有牆', '鋼鐵有牆造')\n",
    "\n",
    "material_catlist = (brick, rc, enf_brick, iron)\n",
    "material_namelist = ('brick', 'rc', 'enf_brick', 'iron')\n",
    "\n",
    "def cat_material(row):\n",
    "    for pair in zip(material_catlist, material_namelist):\n",
    "        if row['material'] in pair[0]:\n",
    "            return pair[1]\n",
    "\n",
    "df['n_material'] = df.apply(lambda row: cat_material(row), axis = 1)"
   ]
  },
  {
   "cell_type": "code",
   "execution_count": 8,
   "id": "2d952497",
   "metadata": {},
   "outputs": [
    {
     "data": {
      "text/plain": [
       "urb_zoning\n",
       "住                           2371\n",
       "其他                            18\n",
       "商                            151\n",
       "工                             11\n",
       "農                            312\n",
       "都市：其他:                        11\n",
       "都市：其他:乙種工業區                    2\n",
       "都市：其他:人行步道                     1\n",
       "都市：其他:住                        2\n",
       "都市：其他:住宅區                   1049\n",
       "都市：其他:住宅區(住一)                  5\n",
       "都市：其他:住宅區(住三)                  5\n",
       "都市：其他:住宅區(住二)                 18\n",
       "都市：其他:住宅區(住六)                  3\n",
       "都市：其他:住宅區(住四)                  3\n",
       "都市：其他:保護區                     13\n",
       "都市：其他:兒童遊樂場                    1\n",
       "都市：其他:公園用地                     1\n",
       "都市：其他:公墓用地                     1\n",
       "都市：其他:商業區                     55\n",
       "都市：其他:學校用地                     1\n",
       "都市：其他:工商綜合區(一)                 2\n",
       "都市：其他:工業區                      5\n",
       "都市：其他:廣場用地                     1\n",
       "都市：其他:批發市場用地                   1\n",
       "都市：其他:河川區                      2\n",
       "都市：其他:生物醫學產業特定專用區(二)           4\n",
       "都市：其他:第一種住宅區                   1\n",
       "都市：其他:第一種遊憩服務設施                1\n",
       "都市：其他:第三種住宅區。                  4\n",
       "都市：其他:第二種住宅區                  18\n",
       "都市：其他:第二種商業區                   1\n",
       "都市：其他:第二種遊憩服務設施                1\n",
       "都市：其他:農                        1\n",
       "都市：其他:農業區                    195\n",
       "都市：其他:道路用地                    45\n",
       "都市：其他:部分商業區部分住宅區               1\n",
       "都市：其他:酒業文化專用區                  1\n",
       "都市：商                           1\n",
       "非都市：特定農業區 ; 非都市編定：甲種建築用地       5\n",
       "dtype: int64"
      ]
     },
     "execution_count": 8,
     "metadata": {},
     "output_type": "execute_result"
    }
   ],
   "source": [
    "df.groupby(['urb_zoning']).size()"
   ]
  },
  {
   "cell_type": "code",
   "execution_count": 9,
   "id": "8ed9d660",
   "metadata": {},
   "outputs": [],
   "source": [
    "res = ('住', '都市：其他:住', '都市：其他:住宅區', '都市：其他:住宅區(住一)', '都市：其他:住宅區(住二)', '都市：其他:住宅區(住三)', '都市：其他:住宅區(住四)', '都市：其他:住宅區(住六)', '都市：其他:第一種住宅區', '都市：其他:第三種住宅區。', '都市：其他:第二種住宅區', '都市：其他:部分商業區部分住宅區')\n",
    "comm = ('商', '都市：商', '都市：其他:第二種商業區', '都市：其他:工業區', '都市：其他:工商綜合區(一)', '都市：其他:商業區')\n",
    "ind = ('工', '都市：其他:工業區', '都市：其他:乙種工業區')\n",
    "agr = ('農', '都市：其他:農業區', '都市：其他:農')\n",
    "env = ('都市：其他:保護區', '都市：其他:河川區')\n",
    "urb_zone_catlist = (res, comm, ind, agr, env)\n",
    "urb_zone_namelist = ('res', 'comm', 'ind', 'agr', 'env')\n",
    "\n",
    "def cat_urb_zoning(row):\n",
    "    for pair in zip(urb_zone_catlist, urb_zone_namelist):\n",
    "        if row['urb_zoning'] in pair[0]:\n",
    "            return pair[1]\n",
    "    return np.nan\n",
    "\n",
    "df['n_urb_zoning'] = df.apply(lambda row: cat_urb_zoning(row), axis = 1)"
   ]
  },
  {
   "cell_type": "code",
   "execution_count": 10,
   "id": "0c595ce7",
   "metadata": {},
   "outputs": [],
   "source": [
    "df = df.drop(['nurb_land'], axis=1)"
   ]
  },
  {
   "cell_type": "code",
   "execution_count": 11,
   "id": "e296badf",
   "metadata": {},
   "outputs": [],
   "source": [
    "nurb_zoning_name = ('一般農業區', '山坡地保育區', '工業區', '特定農業區', '鄉村區', '風景區')"
   ]
  },
  {
   "cell_type": "code",
   "execution_count": 12,
   "id": "021583ce",
   "metadata": {},
   "outputs": [],
   "source": [
    "def cat_urban(row):\n",
    "    if not pd.isna(row['urb_zoning']) and row['urb_zoning'] != '非都市：特定農業區 ; 非都市編定：甲種建築用地':\n",
    "        return 1\n",
    "    else:\n",
    "        return 0\n",
    "    \n",
    "df['d_urban'] = df.apply(lambda row: cat_urban(row), axis = 1)"
   ]
  },
  {
   "cell_type": "code",
   "execution_count": 13,
   "id": "2f5730ea",
   "metadata": {
    "scrolled": true
   },
   "outputs": [],
   "source": [
    "df = df.rename(columns={'d_elevator': 'old_d_elevator'})\n",
    "df['d_elevator'] = df.apply(lambda row: 1 if row['old_d_elevator'] == '有' else 0, axis = 1)"
   ]
  },
  {
   "cell_type": "code",
   "execution_count": 14,
   "id": "85b00283",
   "metadata": {},
   "outputs": [
    {
     "data": {
      "text/plain": [
       "257"
      ]
     },
     "execution_count": 14,
     "metadata": {},
     "output_type": "execute_result"
    }
   ],
   "source": [
    "def get_completion_year(row):\n",
    "    if row['completion_date'] >= 100000:\n",
    "        return (row['completion_date']//10000) + 1911\n",
    "    if row['completion_date'] < 100:\n",
    "        return row['completion_date'] + 1911\n",
    "    \n",
    "df['completion_year'] = df.apply(lambda row: get_completion_year(row), axis = 1)\n",
    "sum(df['completion_year'].isnull())"
   ]
  },
  {
   "cell_type": "code",
   "execution_count": 15,
   "id": "df765edc",
   "metadata": {},
   "outputs": [
    {
     "data": {
      "text/plain": [
       "count    8736.000000\n",
       "mean     2001.590545\n",
       "std        18.722779\n",
       "min      1925.000000\n",
       "25%      1981.000000\n",
       "50%      2010.000000\n",
       "75%      2019.000000\n",
       "max      2022.000000\n",
       "Name: completion_year, dtype: float64"
      ]
     },
     "execution_count": 15,
     "metadata": {},
     "output_type": "execute_result"
    }
   ],
   "source": [
    "df['completion_year'].describe()"
   ]
  },
  {
   "cell_type": "code",
   "execution_count": 16,
   "id": "56d8b323",
   "metadata": {},
   "outputs": [
    {
     "data": {
      "text/plain": [
       "count    8736.000000\n",
       "mean       18.619048\n",
       "std        18.569414\n",
       "min         0.000000\n",
       "25%         1.000000\n",
       "50%        10.000000\n",
       "75%        38.000000\n",
       "max        96.000000\n",
       "Name: age, dtype: float64"
      ]
     },
     "execution_count": 16,
     "metadata": {},
     "output_type": "execute_result"
    }
   ],
   "source": [
    "df['age'] = df.apply(lambda row: row['year']-row['completion_year'], axis=1)\n",
    "df['d_presale'] = df.apply(lambda row: 1 if row['age'] < 0 else 0, axis = 1) # dummy for presale house\n",
    "df['age'] = df.apply(lambda row: 0 if row['age'] < 0 else row['age'], axis = 1)\n",
    "df['age'].describe()"
   ]
  },
  {
   "cell_type": "code",
   "execution_count": 17,
   "id": "4a77f24f",
   "metadata": {},
   "outputs": [
    {
     "data": {
      "text/plain": [
       "count    8993.000000\n",
       "mean        0.974758\n",
       "std         0.156868\n",
       "min         0.000000\n",
       "25%         1.000000\n",
       "50%         1.000000\n",
       "75%         1.000000\n",
       "max         1.000000\n",
       "Name: d_comp, dtype: float64"
      ]
     },
     "execution_count": 17,
     "metadata": {},
     "output_type": "execute_result"
    }
   ],
   "source": [
    "sum(df['d_comp'].isnull()) # check for missing values\n",
    "df = df.rename(columns={'d_comp': 'old_d_comp'})\n",
    "df['d_comp'] = df.apply(lambda row: 1 if row['old_d_comp'] == '有' else 0, axis = 1)\n",
    "df['d_comp'].describe()"
   ]
  },
  {
   "cell_type": "code",
   "execution_count": 18,
   "id": "d44ae1af",
   "metadata": {},
   "outputs": [
    {
     "data": {
      "text/plain": [
       "count    8993.000000\n",
       "mean        0.021906\n",
       "std         0.146385\n",
       "min         0.000000\n",
       "25%         0.000000\n",
       "50%         0.000000\n",
       "75%         0.000000\n",
       "max         1.000000\n",
       "Name: d_manager, dtype: float64"
      ]
     },
     "execution_count": 18,
     "metadata": {},
     "output_type": "execute_result"
    }
   ],
   "source": [
    "sum(df['d_manager'].isnull()) # check for missing values\n",
    "df = df.rename(columns={'d_manager': 'old_d_manager'})\n",
    "df['d_manager'] = df.apply(lambda row: 1 if row['old_d_manager'] == '有' else 0, axis = 1)\n",
    "df['d_manager'].describe()"
   ]
  },
  {
   "cell_type": "code",
   "execution_count": 19,
   "id": "b6114d8b",
   "metadata": {},
   "outputs": [
    {
     "data": {
      "text/plain": [
       "count    8993.000000\n",
       "mean        0.038141\n",
       "std         0.191547\n",
       "min         0.000000\n",
       "25%         0.000000\n",
       "50%         0.000000\n",
       "75%         0.000000\n",
       "max         1.000000\n",
       "Name: d_sr, dtype: float64"
      ]
     },
     "execution_count": 19,
     "metadata": {},
     "output_type": "execute_result"
    }
   ],
   "source": [
    "# special relationships\n",
    "df['note'] = df['note'].fillna(value = '')\n",
    "df['d_sr'] = df.apply(lambda row: 1 if ('親友、員工、共有人或其他特殊關係間之交易' in row['note']) else 0, axis = 1)\n",
    "df['d_sr'].describe()"
   ]
  },
  {
   "cell_type": "code",
   "execution_count": 20,
   "id": "aca40c47",
   "metadata": {},
   "outputs": [
    {
     "data": {
      "text/plain": [
       "count    8993.000000\n",
       "mean        0.069721\n",
       "std         0.254690\n",
       "min         0.000000\n",
       "25%         0.000000\n",
       "50%         0.000000\n",
       "75%         0.000000\n",
       "max         1.000000\n",
       "Name: d_presale_2, dtype: float64"
      ]
     },
     "execution_count": 20,
     "metadata": {},
     "output_type": "execute_result"
    }
   ],
   "source": [
    "# presale house from note\n",
    "df['d_presale_2'] = df.apply(lambda row: 1 if ('預售屋、或土地及建物分件登記案件' in row['note']) else 0, axis = 1)\n",
    "df['d_presale_2'].describe()"
   ]
  },
  {
   "cell_type": "code",
   "execution_count": 21,
   "id": "4f4f4a60",
   "metadata": {},
   "outputs": [
    {
     "data": {
      "text/plain": [
       "count    8993.000000\n",
       "mean        0.116535\n",
       "std         0.320883\n",
       "min         0.000000\n",
       "25%         0.000000\n",
       "50%         0.000000\n",
       "75%         0.000000\n",
       "max         1.000000\n",
       "Name: d_presale, dtype: float64"
      ]
     },
     "execution_count": 21,
     "metadata": {},
     "output_type": "execute_result"
    }
   ],
   "source": [
    "df['d_presale'].describe()"
   ]
  },
  {
   "cell_type": "code",
   "execution_count": 22,
   "id": "0fc643bc",
   "metadata": {},
   "outputs": [
    {
     "data": {
      "text/plain": [
       "count    8993.000000\n",
       "mean        0.060603\n",
       "std         0.238613\n",
       "min         0.000000\n",
       "25%         0.000000\n",
       "50%         0.000000\n",
       "75%         0.000000\n",
       "max         1.000000\n",
       "Name: d_notreg, dtype: float64"
      ]
     },
     "execution_count": 22,
     "metadata": {},
     "output_type": "execute_result"
    }
   ],
   "source": [
    "df['d_notreg'] = df.apply(lambda row: 1 if '未登記建物' in row['note'] else 0, axis = 1)\n",
    "df['d_notreg'].describe()"
   ]
  },
  {
   "cell_type": "code",
   "execution_count": 23,
   "id": "3ea9cc07",
   "metadata": {},
   "outputs": [
    {
     "data": {
      "text/plain": [
       "count    8993.000000\n",
       "mean        0.002113\n",
       "std         0.045919\n",
       "min         0.000000\n",
       "25%         0.000000\n",
       "50%         0.000000\n",
       "75%         0.000000\n",
       "max         1.000000\n",
       "Name: d_hotspring, dtype: float64"
      ]
     },
     "execution_count": 23,
     "metadata": {},
     "output_type": "execute_result"
    }
   ],
   "source": [
    "df['d_hotspring'] = df.apply(lambda row: 1 if '溫泉宅' in row['note'] else 0, axis = 1)\n",
    "df['d_hotspring'].describe()"
   ]
  },
  {
   "cell_type": "code",
   "execution_count": 24,
   "id": "ef07fe68",
   "metadata": {},
   "outputs": [
    {
     "data": {
      "text/plain": [
       "count    8993.000000\n",
       "mean        0.003781\n",
       "std         0.061375\n",
       "min         0.000000\n",
       "25%         0.000000\n",
       "50%         0.000000\n",
       "75%         0.000000\n",
       "max         1.000000\n",
       "Name: d_leak, dtype: float64"
      ]
     },
     "execution_count": 24,
     "metadata": {},
     "output_type": "execute_result"
    }
   ],
   "source": [
    "df['d_leak'] = df.apply(lambda row: 1 if '漏水' in row['note'] else 0, axis = 1)\n",
    "df['d_leak'].describe()"
   ]
  },
  {
   "cell_type": "code",
   "execution_count": 25,
   "id": "5fe1d894",
   "metadata": {},
   "outputs": [
    {
     "data": {
      "text/plain": [
       "count    8993.000000\n",
       "mean        0.003781\n",
       "std         0.061375\n",
       "min         0.000000\n",
       "25%         0.000000\n",
       "50%         0.000000\n",
       "75%         0.000000\n",
       "max         1.000000\n",
       "Name: d_leak, dtype: float64"
      ]
     },
     "execution_count": 25,
     "metadata": {},
     "output_type": "execute_result"
    }
   ],
   "source": [
    "df['d_reno'] = df.apply(lambda row: 1 if '含裝潢費' in row['note'] else 0, axis = 1)\n",
    "df['d_leak'].describe()"
   ]
  },
  {
   "cell_type": "code",
   "execution_count": 26,
   "id": "ec634dbd",
   "metadata": {},
   "outputs": [
    {
     "data": {
      "text/plain": [
       "Index(['town', 'address', 'land_area', 'urb_zoning', 'nurb_zoning', 'date',\n",
       "       'object_num', 'story', 'material', 'completion_date', 'building_area',\n",
       "       'n_bed', 'n_hall', 'n_bath', 'old_d_comp', 'old_d_manager', 'price',\n",
       "       'unitprice', 'note', 'serialnumber', 'main_area', 'aux_area',\n",
       "       'balcony_area', 'old_d_elevator', 'trans_num', 'year', 'month', 'lat',\n",
       "       'lng', 'HubName', 'HubDist', 'dist2win', 'n_story', 'n_material',\n",
       "       'n_urb_zoning', 'd_urban', 'd_elevator', 'completion_year', 'age',\n",
       "       'd_presale', 'd_comp', 'd_manager', 'd_sr', 'd_presale_2', 'd_notreg',\n",
       "       'd_hotspring', 'd_leak', 'd_reno'],\n",
       "      dtype='object')"
      ]
     },
     "execution_count": 26,
     "metadata": {},
     "output_type": "execute_result"
    }
   ],
   "source": [
    "df.columns"
   ]
  }
 ],
 "metadata": {
  "@webio": {
   "lastCommId": null,
   "lastKernelId": null
  },
  "kernelspec": {
   "display_name": "Python 3 (ipykernel)",
   "language": "python",
   "name": "python3"
  },
  "language_info": {
   "codemirror_mode": {
    "name": "ipython",
    "version": 3
   },
   "file_extension": ".py",
   "mimetype": "text/x-python",
   "name": "python",
   "nbconvert_exporter": "python",
   "pygments_lexer": "ipython3",
   "version": "3.9.7"
  },
  "toc": {
   "base_numbering": 1,
   "nav_menu": {},
   "number_sections": true,
   "sideBar": true,
   "skip_h1_title": false,
   "title_cell": "Table of Contents",
   "title_sidebar": "Contents",
   "toc_cell": false,
   "toc_position": {},
   "toc_section_display": true,
   "toc_window_display": false
  }
 },
 "nbformat": 4,
 "nbformat_minor": 5
}
